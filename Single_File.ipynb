{
 "cells": [
  {
   "cell_type": "code",
   "execution_count": 10,
   "metadata": {},
   "outputs": [
    {
     "name": "stdout",
     "output_type": "stream",
     "text": [
      "Fondo de Inversión: Renta Acciones\n",
      "Saldo Anterior: 1.647.038,31\n",
      "Adiciones: 0,00\n",
      "Retiros: 0,00\n",
      "Rendimientos: -30.720,70\n",
      "Retención: 0,00\n",
      "Saldo Final: 1.616.317,61\n",
      "Fecha: 31/07/2024\n",
      "Rentabilidad del Periodo: 19,88- \n"
     ]
    }
   ],
   "source": [
    "import re\n",
    "from datetime import datetime\n",
    "import PyPDF2\n",
    "import os\n",
    "\n",
    "file_path = r\"C:\\Users\\esteb\\Downloads\\Extracto_647643192_202407_RENTA_ACCIONES_1274.pdf\"\n",
    "\n",
    "password = \"1001367767\"  # Reemplaza esto con la contraseña correcta\n",
    "\n",
    "# Leer el archivo PDF con contraseña\n",
    "with open(file_path, 'rb') as file:\n",
    "    reader = PyPDF2.PdfReader(file)\n",
    "    \n",
    "    # Intentar desbloquear el PDF con la contraseña\n",
    "    if reader.is_encrypted:\n",
    "        reader.decrypt(password)\n",
    "    \n",
    "    texto = \"\"\n",
    "    for page in range(len(reader.pages)):\n",
    "        texto += reader.pages[page].extract_text()\n",
    "\n",
    "# Patrones de expresiones regulares\n",
    "patron_numero = re.compile(r'Cuenta de Inversión: (\\d+)')\n",
    "patron_valor_unidad = re.compile(r'Valor Unidad al Final: ([\\d\\.,]+)')\n",
    "patron_saldoanterior = re.compile(r'SALDO ANTERIOR ADICIONES RETIROS\\nVALOR EN PESOS VALOR EN UNIDADES VALOR EN PESOS VALOR EN PESOS\\n(.+?)\\n')\n",
    "patron_rendimientos = re.compile(r'REND. NETOS RETENCIÓN NUEVO SALDO\\nVALOR EN PESOS VALOR EN PESOS VALOR EN PESOS VALOR EN UNIDADES\\n(.+?)\\n')\n",
    "patron_fecha = re.compile(r'Hasta: (\\d+)')\n",
    "patron_rentabilidad = re.compile(r'Rentabilidad Periodo:\\s*([\\d\\.,\\-+% ]+)\\s*%')\n",
    "\n",
    "# Extraer la información usando las expresiones regulares\n",
    "numero = patron_numero.search(texto).group(1)\n",
    "valor_unidad = patron_valor_unidad.search(texto).group(1)\n",
    "rendimientoss = patron_rendimientos.search(texto).group(1)\n",
    "resultado_fecha = patron_fecha.search(texto).group(1)\n",
    "resultado_rentabilidad = patron_rentabilidad.search(texto).group(1)\n",
    "\n",
    "# Manejar documentos con múltiples páginas\n",
    "if \"Pág. 2\" in texto:\n",
    "    # Para documentos de dos páginas, toma la segunda coincidencia\n",
    "    todas_coincidencias = patron_saldoanterior.findall(texto)\n",
    "    saldoanterior = todas_coincidencias[1] if len(todas_coincidencias) > 1 else \"No encontrado\"\n",
    "else:\n",
    "    # Para documentos de una página, toma la primera coincidencia\n",
    "    saldoanterior = patron_saldoanterior.search(texto).group(1) if patron_saldoanterior.search(texto) else \"No encontrado\"\n",
    "\n",
    "# Determinar el fondo de inversión\n",
    "if numero == '252000001274':\n",
    "    fondo_inversion = \"Renta Acciones\"\n",
    "elif numero == '1111000544148':\n",
    "    fondo_inversion = \"Fidurenta\"\n",
    "elif numero == '342000006519':\n",
    "    fondo_inversion = \"Fiducuenta\"\n",
    "elif  numero == \"252000011589\":\n",
    "    fondo_inversion = \"Renta Fija Plazo\"\n",
    "else:\n",
    "    fondo_inversion = \"Otro Fondo\"\n",
    "\n",
    "# Procesar el Saldo Anterior\n",
    "partes_saldoanterior = saldoanterior.split()\n",
    "saldo_anterior = partes_saldoanterior[0]\n",
    "adiciones = partes_saldoanterior[2]\n",
    "retiros = partes_saldoanterior[-1]\n",
    "\n",
    "# Procesar los Rendimientos\n",
    "partes_rendimientos = rendimientoss.split()\n",
    "rendimientos = partes_rendimientos[0]\n",
    "retencion = partes_rendimientos[1]\n",
    "saldofinal = partes_rendimientos[2]\n",
    "\n",
    "# Procesar la fecha\n",
    "fecha = datetime.strptime(resultado_fecha, \"%Y%m%d\")\n",
    "\n",
    "# Mostrar los resultados\n",
    "print(f\"Fondo de Inversión: {fondo_inversion}\")\n",
    "print(f\"Saldo Anterior: {saldo_anterior}\")\n",
    "print(f\"Adiciones: {adiciones}\")\n",
    "print(f\"Retiros: {retiros}\")\n",
    "print(f\"Rendimientos: {rendimientos}\")\n",
    "print(f\"Retención: {retencion}\")\n",
    "print(f\"Saldo Final: {saldofinal}\")\n",
    "print(f\"Fecha: {fecha.strftime('%d/%m/%Y')}\")\n",
    "print(f\"Rentabilidad del Periodo: {resultado_rentabilidad}\")\n"
   ]
  },
  {
   "cell_type": "code",
   "execution_count": 3,
   "metadata": {},
   "outputs": [
    {
     "data": {
      "text/plain": [
       "'CARTERA COLECTIVA RENTA ACCIONES\\nN.I.T. 900.000.528\\nEXTRACTO MENSUAL\\nCuenta de Inversión: 252000001274\\nDesde: 20240701 Hasta: 20240731\\nValor Unidad al Final: 72.070,13357317\\nRentabilidad Periodo: 19,88- % NETA\\nFecha de Vencimiento:\\nCOMISION PROMEDIO MENSUAL\\nSOBRE VALOR DE LA CARTERA 3,00 % ANUALESTEBAN GOMEZ GOMEZ\\nAsesor :\\nCALLE 26 SUR N 23A 11\\nMEDELLIN ANTIOQUIA0252\\nConoce todo sobre nuestros fondos de Inversión en\\nhttps://fiduciaria.grupobancolombia.com en la\\nsección \"Productos y servicios\" y luego \"Fondos de\\nInversión Colectiva\".\\nSALDO ANTERIOR ADICIONES RETIROS\\nVALOR EN PESOS VALOR EN UNIDADES VALOR EN PESOS VALOR EN PESOS\\n1.647.038,31 22,42701004 0,00 0,00\\nREND. NETOS RETENCIÓN NUEVO SALDO\\nVALOR EN PESOS VALOR EN PESOS VALOR EN PESOS VALOR EN UNIDADES\\n-30.720,70 0,00 1.616.317,61 22,42701004FECHA. TRANSACCIÓNMOVIMIENTOS SALDO\\nVALOR EN PESOS VALOR EN UNIDADES VALOR EN PESOS\\nDCF:defensor@bancolombia.com.co;www.bancolombia.com/personas/defensor-financiero; Cr48#18A-14 P11 Medellín;Tel6043561225-018000522622\\nPara consultar la Ficha Técnica de las Carteras Colectivas puede ingresar a www.fiduciariabancolombia.com\\nLas obligaciones de la sociedad administradora de la cartera colectiva relacionadas con la gestión del portafolio son de medio y no de resultado. Los dineros entregados por los\\ninversionistas a la cartera colectiva no son depósitos, ni generan para la sociedad administradora las obligaciones propias de una institución de depósito y no están amparados por el\\nseguro de depósito del Fondo de Garantías de Instituciones Financieras FOGAFÍN, ni por ninguno otro esquema de dicha naturaleza. La inversión en la cartera colectiva está sujeta a los\\nriesgos de inversión, derivados de la evolución de los precios de los activos que componen el portafolio de la respectiva cartera colectiva.\\nPág. 1'"
      ]
     },
     "execution_count": 3,
     "metadata": {},
     "output_type": "execute_result"
    }
   ],
   "source": [
    "texto"
   ]
  }
 ],
 "metadata": {
  "kernelspec": {
   "display_name": "RedNeuronal",
   "language": "python",
   "name": "python3"
  },
  "language_info": {
   "codemirror_mode": {
    "name": "ipython",
    "version": 3
   },
   "file_extension": ".py",
   "mimetype": "text/x-python",
   "name": "python",
   "nbconvert_exporter": "python",
   "pygments_lexer": "ipython3",
   "version": "3.11.7"
  }
 },
 "nbformat": 4,
 "nbformat_minor": 2
}
