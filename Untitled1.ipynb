{
 "cells": [
  {
   "cell_type": "code",
   "execution_count": 1,
   "id": "28bc2fa0",
   "metadata": {},
   "outputs": [
    {
     "name": "stdout",
     "output_type": "stream",
     "text": [
      "Collecting MetaTrader5\n",
      "  Downloading MetaTrader5-5.0.45-cp39-cp39-win_amd64.whl (57 kB)\n",
      "     ---------------------------------------- 57.2/57.2 kB 1.5 MB/s eta 0:00:00\n",
      "Requirement already satisfied: numpy>=1.7 in c:\\users\\esteb\\anaconda3\\lib\\site-packages (from MetaTrader5) (1.26.2)\n",
      "Installing collected packages: MetaTrader5\n",
      "Successfully installed MetaTrader5-5.0.45\n",
      "Note: you may need to restart the kernel to use updated packages.\n"
     ]
    }
   ],
   "source": [
    "pip install MetaTrader5"
   ]
  },
  {
   "cell_type": "code",
   "execution_count": 2,
   "id": "8bdd0ff0",
   "metadata": {},
   "outputs": [],
   "source": [
    "import MetaTrader5 as mt5\n",
    "import pandas as pd"
   ]
  },
  {
   "cell_type": "code",
   "execution_count": 4,
   "id": "82177e97",
   "metadata": {},
   "outputs": [
    {
     "data": {
      "text/plain": [
       "True"
      ]
     },
     "execution_count": 4,
     "metadata": {},
     "output_type": "execute_result"
    }
   ],
   "source": [
    "mt5.initialize()"
   ]
  },
  {
   "cell_type": "code",
   "execution_count": 5,
   "id": "c06c0f9e",
   "metadata": {},
   "outputs": [],
   "source": [
    "login= 95805543\n",
    "password = \"Esteban2001!\"\n",
    "server= \"XMGlobal-MT5 5\""
   ]
  },
  {
   "cell_type": "code",
   "execution_count": 6,
   "id": "dc5436d7",
   "metadata": {},
   "outputs": [
    {
     "data": {
      "text/plain": [
       "True"
      ]
     },
     "execution_count": 6,
     "metadata": {},
     "output_type": "execute_result"
    }
   ],
   "source": [
    "mt5.login(login, password, server)"
   ]
  },
  {
   "cell_type": "code",
   "execution_count": 24,
   "id": "2b687089",
   "metadata": {},
   "outputs": [],
   "source": [
    "symbol= \"US100-MAR24\""
   ]
  },
  {
   "cell_type": "code",
   "execution_count": 29,
   "id": "0c7eeac3",
   "metadata": {},
   "outputs": [],
   "source": [
    "point = mt5.symbol_info(symbol).point\n",
    "price= mt5.symbol_info_tick(symbol).ask\n",
    "request = {\n",
    "    \"action\": mt5.TRADE_ACTION_DEAL,\n",
    "    \"symbol\": symbol,\n",
    "    \"volume\": 0.1,\n",
    "    \"type\": mt5.ORDER_TYPE_BUY,\n",
    "    \"price\": price,\n",
    "    \"sl\": price - 500 * point,\n",
    "    \"tp\": price + 500 * point,\n",
    "    \"comment\": \"Python Script Buy\",\n",
    "    \"type_time\": mt5.ORDER_TIME_GTC,\n",
    "    \"type_filling\": mt5.ORDER_FILLING_IOC,\n",
    "}\n",
    " \n",
    "# send a trading request\n",
    "result = mt5.order_send(request)"
   ]
  },
  {
   "cell_type": "code",
   "execution_count": 30,
   "id": "049b3893",
   "metadata": {},
   "outputs": [
    {
     "data": {
      "text/plain": [
       "OrderSendResult(retcode=10009, deal=323151236, order=325339173, volume=0.1, price=16806.2, bid=16802.9, ask=16806.2, comment='Request executed', request_id=3402411307, retcode_external=0, request=TradeRequest(action=1, magic=0, order=0, symbol='US100-MAR24', volume=0.1, price=16806.2, stoplimit=0.0, sl=16801.2, tp=16811.2, deviation=0, type=0, type_filling=1, type_time=0, expiration=0, comment='Python Script Buy', position=0, position_by=0))"
      ]
     },
     "execution_count": 30,
     "metadata": {},
     "output_type": "execute_result"
    }
   ],
   "source": [
    "result"
   ]
  },
  {
   "cell_type": "code",
   "execution_count": 35,
   "id": "87e0407a",
   "metadata": {},
   "outputs": [],
   "source": [
    "price= mt5.symbol_info_tick(symbol).bid\n",
    "request = {\n",
    "    \"action\": mt5.TRADE_ACTION_DEAL,\n",
    "    \"symbol\": symbol,\n",
    "    \"volume\": 0.1,\n",
    "    \"type\": mt5.ORDER_TYPE_SELL,\n",
    "    \"price\": price,\n",
    "    \"position\": 325339173,\n",
    "    \"comment\": \"Closing Position\",\n",
    "    \"type_time\": mt5.ORDER_TIME_GTC,\n",
    "    \"type_filling\": mt5.ORDER_FILLING_IOC,\n",
    "}\n",
    " \n",
    "# send a trading request\n",
    "result = mt5.order_send(request)"
   ]
  },
  {
   "cell_type": "code",
   "execution_count": 36,
   "id": "1ce08638",
   "metadata": {},
   "outputs": [
    {
     "data": {
      "text/plain": [
       "OrderSendResult(retcode=10009, deal=323151734, order=325340541, volume=0.1, price=16807.6, bid=16807.6, ask=16810.9, comment='Request executed', request_id=3402411308, retcode_external=0, request=TradeRequest(action=1, magic=0, order=0, symbol='US100-MAR24', volume=0.1, price=16807.6, stoplimit=0.0, sl=0.0, tp=0.0, deviation=0, type=1, type_filling=1, type_time=0, expiration=0, comment='Closing Position', position=325339173, position_by=0))"
      ]
     },
     "execution_count": 36,
     "metadata": {},
     "output_type": "execute_result"
    }
   ],
   "source": [
    "result"
   ]
  },
  {
   "cell_type": "markdown",
   "id": "ba452c4e",
   "metadata": {},
   "source": [
    "# Bot de Trading\n"
   ]
  },
  {
   "cell_type": "code",
   "execution_count": 51,
   "id": "2e3bdb42",
   "metadata": {},
   "outputs": [],
   "source": [
    "ticker=\"US100-MAR24\"\n",
    "qty=0.1\n",
    "buy_order_type= mt5.ORDER_TYPE_BUY\n",
    "sell_order_type =mt5.ORDER_TYPE_SELL\n",
    "buy_price = mt5.symbol_info_tick(symbol).ask\n",
    "sell_price = mt5.symbol_info_tick(symbol).bid\n",
    "sl_pct = 0.05\n",
    "tp_pct= 0.1\n",
    "buy_sl = buy_price * (1-sl_pct)\n",
    "buy_tp= buy_price * (1+tp_pct)\n",
    "sell_sl = sell_price * (1+sl_pct)\n",
    "sell_tp= sell_price * (1-tp_pct)\n",
    "\n",
    "def create_order(ticker,qty,order_type,price,sl,tp):\n",
    "    request = {\n",
    "        \"action\": mt5.TRADE_ACTION_DEAL,\n",
    "        \"symbol\": ticker,\n",
    "        \"volume\": qty,\n",
    "        \"type\": order_type,\n",
    "        \"price\": price,\n",
    "        \"sl\": sl,\n",
    "        \"tp\": tp,\n",
    "        \"comment\": \"Python Open Position\",\n",
    "        \"type_time\": mt5.ORDER_TIME_GTC,\n",
    "        \"type_filling\": mt5.ORDER_FILLING_IOC,\n",
    "    }\n",
    "    \n",
    "    result = mt5.order_send(request)\n",
    "    return result\n",
    "def close_order(ticker,qty,order_type,price):\n",
    "    request = {\n",
    "        \"action\": mt5.TRADE_ACTION_DEAL,\n",
    "        \"symbol\": ticker,\n",
    "        \"volume\": qty,\n",
    "        \"type\": order_type,\n",
    "        \"position\": mt5.positions_get()[0]._asdict()[\"ticket\"],\n",
    "        \"comment\": \"Closing Position\",\n",
    "        \"type_time\": mt5.ORDER_TIME_GTC,\n",
    "        \"type_filling\": mt5.ORDER_FILLING_IOC,\n",
    "    }\n",
    "    result = mt5.order_send(request)\n",
    "    return result"
   ]
  },
  {
   "cell_type": "code",
   "execution_count": 50,
   "id": "97ba36f0",
   "metadata": {},
   "outputs": [
    {
     "data": {
      "text/plain": [
       "OrderSendResult(retcode=10009, deal=323153839, order=325346180, volume=0.1, price=16804.5, bid=16804.5, ask=16807.8, comment='Request executed', request_id=3402411311, retcode_external=0, request=TradeRequest(action=1, magic=0, order=0, symbol='US100-MAR24', volume=0.1, price=16807.6, stoplimit=0.0, sl=17647.98, tp=15126.839999999998, deviation=0, type=1, type_filling=1, type_time=0, expiration=0, comment='Python Open Position', position=0, position_by=0))"
      ]
     },
     "execution_count": 50,
     "metadata": {},
     "output_type": "execute_result"
    }
   ],
   "source": [
    "create_order(ticker,qty,sell_order_type,sell_price,sell_sl,sell_tp)"
   ]
  },
  {
   "cell_type": "code",
   "execution_count": 57,
   "id": "f4ccf924",
   "metadata": {},
   "outputs": [
    {
     "data": {
      "text/plain": [
       "OrderSendResult(retcode=10009, deal=323154030, order=325346884, volume=0.1, price=16805.2, bid=16801.9, ask=16805.2, comment='Request executed', request_id=3402411315, retcode_external=0, request=TradeRequest(action=1, magic=0, order=0, symbol='US100-MAR24', volume=0.1, price=0.0, stoplimit=0.0, sl=0.0, tp=0.0, deviation=0, type=0, type_filling=1, type_time=0, expiration=0, comment='Closing Position', position=325346180, position_by=0))"
      ]
     },
     "execution_count": 57,
     "metadata": {},
     "output_type": "execute_result"
    }
   ],
   "source": [
    "close_order(ticker, qty, buy_order_type,buy_price)"
   ]
  },
  {
   "cell_type": "code",
   "execution_count": 56,
   "id": "5142f5a0",
   "metadata": {},
   "outputs": [
    {
     "data": {
      "text/plain": [
       "325346180"
      ]
     },
     "execution_count": 56,
     "metadata": {},
     "output_type": "execute_result"
    }
   ],
   "source": []
  }
 ],
 "metadata": {
  "kernelspec": {
   "display_name": "Python 3 (ipykernel)",
   "language": "python",
   "name": "python3"
  },
  "language_info": {
   "codemirror_mode": {
    "name": "ipython",
    "version": 3
   },
   "file_extension": ".py",
   "mimetype": "text/x-python",
   "name": "python",
   "nbconvert_exporter": "python",
   "pygments_lexer": "ipython3",
   "version": "3.9.13"
  }
 },
 "nbformat": 4,
 "nbformat_minor": 5
}
