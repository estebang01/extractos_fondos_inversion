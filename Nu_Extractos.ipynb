{
 "cells": [
  {
   "cell_type": "code",
   "execution_count": 4,
   "metadata": {},
   "outputs": [
    {
     "name": "stdout",
     "output_type": "stream",
     "text": [
      "Tu Contrato Nu.pdf\n",
      "Saved Tu Contrato Nu.pdf\n",
      "Nu_2022-10-05.pdf\n",
      "Saved Nu_2022-10-05.pdf\n",
      "Nu_2022-11-05.pdf\n",
      "Saved Nu_2022-11-05.pdf\n",
      "Nu_2023-02-05.pdf\n",
      "Saved Nu_2023-02-05.pdf\n",
      "Nu_2023-03-05.pdf\n",
      "Saved Nu_2023-03-05.pdf\n",
      "Nu_2023-04-05.pdf\n",
      "Saved Nu_2023-04-05.pdf\n",
      "Nu_2023-05-05.pdf\n",
      "Saved Nu_2023-05-05.pdf\n",
      "Nu_2023-06-05.pdf\n",
      "Saved Nu_2023-06-05.pdf\n",
      "Nu_2023-07-05.pdf\n",
      "Saved Nu_2023-07-05.pdf\n",
      "Nu_2023-08-05.pdf\n",
      "Saved Nu_2023-08-05.pdf\n",
      "Nu_2023-09-05.pdf\n",
      "Saved Nu_2023-09-05.pdf\n",
      "Nu_2023-10-05.pdf\n",
      "Saved Nu_2023-10-05.pdf\n",
      "certificado_retencion_nu_2022_2023-09-25.pdf\n",
      "Saved certificado_retencion_nu_2022_2023-09-25.pdf\n",
      "Nu_2023-11-23.pdf\n",
      "Saved Nu_2023-11-23.pdf\n",
      "Nu_2023-12-23.pdf\n",
      "Saved Nu_2023-12-23.pdf\n",
      "Nu_2024-01-23.pdf\n",
      "Saved Nu_2024-01-23.pdf\n",
      "Nu_2024-02-23.pdf\n",
      "Saved Nu_2024-02-23.pdf\n",
      "Nu_2024-03-23.pdf\n",
      "Saved Nu_2024-03-23.pdf\n",
      "Nu_2024-04-23.pdf\n",
      "Saved Nu_2024-04-23.pdf\n",
      "Nu_2024-05-23.pdf\n",
      "Saved Nu_2024-05-23.pdf\n",
      "Nu_2024-06-23.pdf\n",
      "Saved Nu_2024-06-23.pdf\n",
      "Nu_2024-07-23.pdf\n",
      "Saved Nu_2024-07-23.pdf\n",
      "Nu_2024-08-23.pdf\n",
      "Saved Nu_2024-08-23.pdf\n"
     ]
    },
    {
     "data": {
      "text/plain": [
       "('BYE', [b'LOGOUT Requested'])"
      ]
     },
     "execution_count": 4,
     "metadata": {},
     "output_type": "execute_result"
    }
   ],
   "source": [
    "import re\n",
    "from datetime import datetime\n",
    "import PyPDF2\n",
    "import pandas as pd\n",
    "import os\n",
    "import email\n",
    "import imaplib\n",
    "import locale\n",
    "from locale import atof\n",
    "import json\n",
    "\n",
    "# Configuración del locale\n",
    "locale.setlocale(locale.LC_NUMERIC, 'es_ES.UTF-8')\n",
    "\n",
    "json_file_path= \"C:/Users/esteb/Documents/Automatizacion/MutualFund_Info.json\"\n",
    "with open(json_file_path, 'r') as file:\n",
    "    # Carga los datos JSON del archivo\n",
    "    key_info = json.load(file)\n",
    "\n",
    "# Connect to the Gmail server\n",
    "mail = imaplib.IMAP4_SSL('imap.gmail.com')\n",
    "mail.login(key_info[\"email\"], key_info[\"email_code\"])\n",
    "mail.select('inbox')\n",
    "\n",
    "# Search for emails from a specific sender received since the first day of two months ago\n",
    "tipo, data = mail.search(None, f'(FROM \"{key_info[\"Nu_email\"]}\")')\n",
    "\n",
    "nu_path = key_info[\"Path_NuBank\"]\n",
    "\n",
    "# Make sure the directories exist\n",
    "os.makedirs(nu_path, exist_ok=True)\n",
    "\n",
    "# Procesar correos y descargar los archivos\n",
    "for num in data[0].split():\n",
    "    typ, msg_data = mail.fetch(num, '(RFC822)')\n",
    "    for response_part in msg_data:\n",
    "        if isinstance(response_part, tuple):\n",
    "            msg = email.message_from_bytes(response_part[1])\n",
    "            for part in msg.walk():\n",
    "                if part.get_content_maintype() == 'multipart':\n",
    "                    continue\n",
    "\n",
    "                # Check if part has Content-Disposition header (indicative of an attachment)\n",
    "                if part.get('Content-Disposition') is not None:\n",
    "                    filename = part.get_filename()\n",
    "                    if filename:\n",
    "                        print(filename)\n",
    "                        # Determine the correct path based on the filename\n",
    "                        if any(keyword in filename.upper() for keyword in [\"NU\"]):\n",
    "                            filepath = os.path.join(nu_path, filename)\n",
    "\n",
    "                        # Check if file already exists\n",
    "                        if not os.path.isfile(filepath):\n",
    "                            with open(filepath, 'wb') as fp:\n",
    "                                fp.write(part.get_payload(decode=True))\n",
    "                            print(f'Saved {filename}')\n",
    "                        else:\n",
    "                            print(f'File {filename} already exists. Skipping download.')\n",
    "\n",
    "# Close the mail connection\n",
    "mail.close()\n",
    "mail.logout()"
   ]
  },
  {
   "cell_type": "code",
   "execution_count": 11,
   "metadata": {},
   "outputs": [],
   "source": [
    "carpeta = key_info[\"Path_NuBank\"]\n",
    "password = key_info[\"Id\"]\n",
    "\n",
    "# Lista para almacenar el texto de todos los archivos PDF\n",
    "textos = []\n",
    "\n",
    "# Iterar a través de cada archivo en la carpeta\n",
    "for archivo in os.listdir(carpeta):\n",
    "    ruta_archivo = os.path.join(carpeta, archivo)\n",
    "    # Asegurarse de que el archivo sea un PDF\n",
    "    if ruta_archivo.lower().endswith('.pdf'):\n",
    "        # Abrir el archivo PDF\n",
    "        with open(ruta_archivo, 'rb') as file:\n",
    "            reader = PyPDF2.PdfReader(file)\n",
    "            # Verificar si el archivo PDF está encriptado\n",
    "            if reader.is_encrypted:\n",
    "                # Intentar desencriptar el PDF\n",
    "                if reader.decrypt(password):\n",
    "                    # Inicializar una variable para almacenar el texto de todas las páginas\n",
    "                    texto_completo = ''\n",
    "                    # Extraer texto de cada página y concatenarlo\n",
    "                    for page in reader.pages:\n",
    "                        text = page.extract_text()\n",
    "                        if text:\n",
    "                            texto_completo += text + '\\n'  # Añadir un salto de línea entre páginas\n",
    "                    # Añadir el texto completo del PDF a la lista 'textos'\n",
    "                    textos.append(texto_completo)\n",
    "                else:\n",
    "                    print(f\"Contraseña incorrecta o imposible desencriptar el PDF: {archivo}\")\n",
    "            else:\n",
    "                for page in reader.pages:\n",
    "                    text = page.extract_text()\n",
    "                    if text:\n",
    "                        texto_completo += text + '\\n'  # Añadir un salto de línea entre páginas\n",
    "                    # Añadir el texto completo del PDF a la lista 'textos'\n",
    "                textos.append(texto_completo)\n",
    "\n",
    "# Supongamos que esta es tu lista de textos (cada elemento es el contenido de un archivo PDF)\n",
    "lista_textos = textos"
   ]
  },
  {
   "cell_type": "code",
   "execution_count": 12,
   "metadata": {},
   "outputs": [
    {
     "data": {
      "text/plain": [
       "23"
      ]
     },
     "execution_count": 12,
     "metadata": {},
     "output_type": "execute_result"
    }
   ],
   "source": [
    "len(lista_textos)"
   ]
  }
 ],
 "metadata": {
  "kernelspec": {
   "display_name": "RedNeuronal",
   "language": "python",
   "name": "python3"
  },
  "language_info": {
   "codemirror_mode": {
    "name": "ipython",
    "version": 3
   },
   "file_extension": ".py",
   "mimetype": "text/x-python",
   "name": "python",
   "nbconvert_exporter": "python",
   "pygments_lexer": "ipython3",
   "version": "3.11.7"
  }
 },
 "nbformat": 4,
 "nbformat_minor": 2
}
